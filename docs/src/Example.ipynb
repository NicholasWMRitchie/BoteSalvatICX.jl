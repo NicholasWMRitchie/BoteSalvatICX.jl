{
 "cells": [
  {
   "cell_type": "markdown",
   "metadata": {},
   "source": [
    "# Bote-Salvat Ionization Cross-Section\n",
    "This notebook shows how to use the BoteSalvatICX.jl  It uses the optional Gadfly plotting support to plot the cross-section from threshold to 1 GeV."
   ]
  },
  {
   "cell_type": "code",
   "execution_count": null,
   "metadata": {},
   "outputs": [],
   "source": [
    "using BoteSalvatICX\n",
    "using Gadfly"
   ]
  },
  {
   "cell_type": "markdown",
   "metadata": {},
   "source": [
    "When Gadfly is imported, you can plot the ionization cross-sections for electron impact on the elements."
   ]
  },
  {
   "cell_type": "code",
   "execution_count": null,
   "metadata": {},
   "outputs": [],
   "source": [
    "set_default_plot_size(10inch, 4inch)\n",
    "hstack(plotBoteSalvatICX(6),plotBoteSalvatICX(92))"
   ]
  },
  {
   "cell_type": "markdown",
   "metadata": {},
   "source": [
    "BoteSalvatICX.jl exports three methods for accessing the cross-section, the available sub-shells and edge energies."
   ]
  },
  {
   "cell_type": "markdown",
   "metadata": {},
   "source": [
    "You can determine whether the algorithm is implemented for the specified sub-shell using `boteSalvatAvailable(z::Integer, subshell::Int)`.  Elements are identified by atomic number and sub-shells are indexed in K, L₁, L₂, L₃, M₁, M₂, M₃, M₄, M₅... order as 1, 2, 3, 4, 5, 6, 7, 8, 9 respectively.  The most of the sub-shells that are typically ionized in X-ray and Auger events have been implemented.  However, no N-sub-shell cross-sections are available."
   ]
  },
  {
   "cell_type": "code",
   "execution_count": null,
   "metadata": {},
   "outputs": [],
   "source": [
    "(boteSalvatAvailable(6,1), boteSalvatAvailable(6,2), boteSalvatAvailable(92,9), boteSalvatAvailable(92,10) )"
   ]
  },
  {
   "cell_type": "markdown",
   "metadata": {},
   "source": [
    "The edge-energies can be accessed via `boteSalvatEdgeEnergy(z::Integer, shell::Int)`.  All energies are in eV."
   ]
  },
  {
   "cell_type": "code",
   "execution_count": null,
   "metadata": {},
   "outputs": [],
   "source": [
    "(boteSalvatEdgeEnergy(6,1), boteSalvatEdgeEnergy(92, 9))"
   ]
  },
  {
   "cell_type": "markdown",
   "metadata": {},
   "source": [
    "The ionization cross-section is access using `boteSalvatICX(z::Int, subshell::Int, energy::AbstractFloat, edgeenergy::AbstractFloat)`.  The result is in cm²/atom.  To convert to the conventional atomic cross-section unit barns, multiply by 10²⁴ barns/cm²."
   ]
  },
  {
   "cell_type": "code",
   "execution_count": null,
   "metadata": {},
   "outputs": [],
   "source": [
    "1.0e24*[boteSalvatICX(6, 1, 600.0,boteSalvatEdgeEnergy(6,1)),boteSalvatICX(92, 9, 7000.0, boteSalvatEdgeEnergy(92,9))]"
   ]
  },
  {
   "cell_type": "markdown",
   "metadata": {},
   "source": [
    "At or below the ionization edge, the function returns 0."
   ]
  },
  {
   "cell_type": "code",
   "execution_count": null,
   "metadata": {},
   "outputs": [],
   "source": [
    "1.0e24*[boteSalvatICX(6, 1, boteSalvatEdgeEnergy(6,1), boteSalvatEdgeEnergy(6,1)),boteSalvatICX(92, 9, 3000.0, boteSalvatEdgeEnergy(92,9))]"
   ]
  }
 ],
 "metadata": {
  "@webio": {
   "lastCommId": null,
   "lastKernelId": null
  },
  "kernelspec": {
   "display_name": "Julia 1.2.0",
   "language": "julia",
   "name": "julia-1.2"
  },
  "language_info": {
   "file_extension": ".jl",
   "mimetype": "application/julia",
   "name": "julia",
   "version": "1.2.0"
  }
 },
 "nbformat": 4,
 "nbformat_minor": 2
}
